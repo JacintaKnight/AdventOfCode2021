{
 "cells": [
  {
   "cell_type": "code",
   "execution_count": 80,
   "metadata": {},
   "outputs": [
    {
     "data": {
      "text/plain": [
       "1266"
      ]
     },
     "execution_count": 80,
     "metadata": {},
     "output_type": "execute_result"
    }
   ],
   "source": [
    "#Day 1, part 1\n",
    "\n",
    "sample = \"\"\"199\n",
    "200\n",
    "208\n",
    "210\n",
    "200\n",
    "207\n",
    "240\n",
    "269\n",
    "260\n",
    "263\"\"\".split()\n",
    "\n",
    "def Day1A(d):\n",
    "    count = 0\n",
    "    for i in range(1, len(d)):\n",
    "        if int(d[i]) > int(d[i-1]):\n",
    "            count += 1\n",
    "    return count\n",
    "\n",
    "file = open(r\"C:\\\\Users\\\\Jacinta\\\\Documents\\\\GitHub\\\\AdventOfCode2021\\\\Inputs\\\\Day1input.txt\", \"r\")\n",
    "data = file.read().split()\n",
    "\n",
    "Day1A(data)\n"
   ]
  },
  {
   "cell_type": "code",
   "execution_count": 81,
   "metadata": {},
   "outputs": [
    {
     "data": {
      "text/plain": [
       "1217"
      ]
     },
     "execution_count": 81,
     "metadata": {},
     "output_type": "execute_result"
    }
   ],
   "source": [
    "#Day 1, part 2\n",
    "\n",
    "sample = \"\"\"199\n",
    "200\n",
    "208\n",
    "210\n",
    "200\n",
    "207\n",
    "240\n",
    "269\n",
    "260\n",
    "263\"\"\".split()\n",
    "\n",
    "def Day1B(d):\n",
    "    count = 0\n",
    "    for i in range(3, len(d)):\n",
    "        if (d[i] + d[i-1] + d[i-2]) > (d[i-1] + d[i-2] + d[i-3]):\n",
    "            count += 1\n",
    "    return count\n",
    "\n",
    "file = open(r\"C:\\\\Users\\\\Jacinta\\\\Documents\\\\GitHub\\\\AdventOfCode2021\\\\Inputs\\\\Day1input.txt\", \"r\")\n",
    "data = list(map(int, file.read().split()))\n",
    "\n",
    "Day1B(data)"
   ]
  },
  {
   "cell_type": "code",
   "execution_count": 82,
   "metadata": {},
   "outputs": [
    {
     "data": {
      "text/plain": [
       "2102357"
      ]
     },
     "execution_count": 82,
     "metadata": {},
     "output_type": "execute_result"
    }
   ],
   "source": [
    "#Day 2, part 1\n",
    "\n",
    "sample = \"\"\"forward 5\n",
    "down 5\n",
    "forward 8\n",
    "up 3\n",
    "down 8\n",
    "forward 2\"\"\".split(\"\\n\")\n",
    "sample = [tuple(x.split()) for x in sample]\n",
    "\n",
    "def Day2A(d):\n",
    "    horizontal = 0\n",
    "    depth = 0\n",
    "    for t in d:\n",
    "        direction, amount = t\n",
    "        if direction == 'forward':\n",
    "            horizontal += int(amount)\n",
    "        elif direction == 'down':\n",
    "            depth += int(amount)\n",
    "        else:\n",
    "            depth -= int(amount)\n",
    "    return horizontal * depth\n",
    "\n",
    "file = open(r\"C:\\\\Users\\\\Jacinta\\\\Documents\\\\GitHub\\\\AdventOfCode2021\\\\Inputs\\\\Day2input.txt\", \"r\")\n",
    "data = [tuple(x.split()) for x in file]\n",
    "\n",
    "Day2A(data)\n",
    "\n"
   ]
  },
  {
   "cell_type": "code",
   "execution_count": 53,
   "metadata": {},
   "outputs": [
    {
     "data": {
      "text/plain": [
       "2101031224"
      ]
     },
     "execution_count": 53,
     "metadata": {},
     "output_type": "execute_result"
    }
   ],
   "source": [
    "#Day 2, part 2\n",
    "\n",
    "#down X increases your aim by X units.\n",
    "#up X decreases your aim by X units.\n",
    "#forward X does two things:\n",
    "#It increases your horizontal position by X units.\n",
    "#It increases your depth by your aim multiplied by X.\n",
    "\n",
    "sample = \"\"\"forward 5\n",
    "down 5\n",
    "forward 8\n",
    "up 3\n",
    "down 8\n",
    "forward 2\"\"\".split(\"\\n\")\n",
    "sample = [tuple(x.split()) for x in sample]\n",
    "\n",
    "def Day2A(d):\n",
    "    aim = 0\n",
    "    horizontal = 0\n",
    "    depth = 0\n",
    "    for t in d:\n",
    "        direction, amount = t\n",
    "        if direction == 'forward':\n",
    "            horizontal += int(amount)\n",
    "            depth += aim * int(amount)\n",
    "        elif direction == 'down':\n",
    "            aim += int(amount)\n",
    "        else:\n",
    "            aim -= int(amount)\n",
    "    return horizontal * depth\n",
    "\n",
    "file = open(r\"C:\\\\Users\\\\Jacinta\\\\Documents\\\\GitHub\\\\AdventOfCode2021\\\\Inputs\\\\Day2input.txt\", \"r\")\n",
    "data = [tuple(x.split()) for x in file]\n",
    "\n",
    "Day2A(data)"
   ]
  },
  {
   "cell_type": "code",
   "execution_count": 71,
   "metadata": {},
   "outputs": [
    {
     "data": {
      "text/plain": [
       "4139586"
      ]
     },
     "execution_count": 71,
     "metadata": {},
     "output_type": "execute_result"
    }
   ],
   "source": [
    "#Day 3, part 1\n",
    "\n",
    "sample = \"\"\"00100\n",
    "11110\n",
    "10110\n",
    "10111\n",
    "10101\n",
    "01111\n",
    "00111\n",
    "11100\n",
    "10000\n",
    "11001\n",
    "00010\n",
    "01010\"\"\".split(\"\\n\")\n",
    "\n",
    "def Day3A(d):\n",
    "    gamma = ''\n",
    "    epsilon = ''\n",
    "    for i in range(0, len(d[0])):\n",
    "        ones = 0\n",
    "        zeros = 0\n",
    "        for x in d:\n",
    "            if x[i] == '1':\n",
    "                ones += 1\n",
    "            else:\n",
    "                zeros += 1\n",
    "        if ones > zeros:\n",
    "            gamma += '1'\n",
    "        else:\n",
    "            gamma += '0'\n",
    "    for x in gamma:\n",
    "        if x == '1':\n",
    "            epsilon += '0'\n",
    "        else:\n",
    "            epsilon += '1'\n",
    "    return int(gamma, 2) * int(epsilon, 2)\n",
    "\n",
    "file = open(r\"C:\\\\Users\\\\Jacinta\\\\Documents\\\\GitHub\\\\AdventOfCode2021\\\\Inputs\\\\Day3input.txt\", \"r\")\n",
    "data = file.read().split()\n",
    "\n",
    "Day3A(data)"
   ]
  },
  {
   "cell_type": "code",
   "execution_count": 70,
   "metadata": {},
   "outputs": [
    {
     "name": "stdout",
     "output_type": "stream",
     "text": [
      "1800151\n"
     ]
    }
   ],
   "source": [
    "#Day 3, part 2\n",
    "\n",
    "#To find oxygen generator rating, determine the most common value (0 or 1) in the current bit position, and keep only \n",
    "#numbers with that bit in that position. If 0 and 1 are equally common, keep values with a 1 in the position being \n",
    "#considered.\n",
    "\n",
    "#To find CO2 scrubber rating, determine the least common value (0 or 1) in the current bit position, and keep only \n",
    "#numbers with that bit in that position. If 0 and 1 are equally common, keep values with a 0 in the position being \n",
    "#considered.\n",
    "\n",
    "sample = \"\"\"00100\n",
    "11110\n",
    "10110\n",
    "10111\n",
    "10101\n",
    "01111\n",
    "00111\n",
    "11100\n",
    "10000\n",
    "11001\n",
    "00010\n",
    "01010\"\"\".split(\"\\n\")\n",
    "\n",
    "file = open(r\"C:\\\\Users\\\\Jacinta\\\\Documents\\\\GitHub\\\\AdventOfCode2021\\\\Inputs\\\\Day3input.txt\", \"r\")\n",
    "data = file.read().split()\n",
    "\n",
    "def oxygen(d):\n",
    "    list = d\n",
    "    for i in range(0, len(list[0])):\n",
    "        if len(list) > 1:\n",
    "            ones = 0\n",
    "            zeros = 0\n",
    "            for x in list:\n",
    "                if x[i] == '1':\n",
    "                    ones += 1\n",
    "                else:\n",
    "                    zeros += 1\n",
    "            if ones >= zeros:\n",
    "                list = [x for x in list if x[i] == '1']\n",
    "            else:\n",
    "                list = [x for x in list if x[i] == '0']\n",
    "    return list\n",
    "\n",
    "def co2(d):\n",
    "    list = d\n",
    "    for i in range(0, len(list[0])):\n",
    "        if len(list) > 1:\n",
    "            ones = 0\n",
    "            zeros = 0\n",
    "            for x in list:\n",
    "                if x[i] == '1':\n",
    "                    ones += 1\n",
    "                else:\n",
    "                    zeros += 1\n",
    "            if zeros <= ones:\n",
    "                list = [x for x in list if x[i] == '0']\n",
    "            else:\n",
    "                list = [x for x in list if x[i] == '1']\n",
    "    return list\n",
    "\n",
    "def Day3B(d):\n",
    "    O = oxygen(d)\n",
    "    C = co2(d)\n",
    "    return int(O[0], 2) * int(C[0], 2)\n",
    "\n",
    "print(Day3B(data))"
   ]
  },
  {
   "cell_type": "code",
   "execution_count": 72,
   "metadata": {},
   "outputs": [
    {
     "data": {
      "text/plain": [
       "71708"
      ]
     },
     "execution_count": 72,
     "metadata": {},
     "output_type": "execute_result"
    }
   ],
   "source": [
    "#Day 4 part 1\n",
    "\n",
    "import numpy as np\n",
    "\n",
    "sample = \"\"\"7,4,9,5,11,17,23,2,0,14,21,24,10,16,13,6,15,25,12,22,18,20,8,19,3,26,1\n",
    "\n",
    "22 13 17 11  0\n",
    " 8  2 23  4 24\n",
    "21  9 14 16  7\n",
    " 6 10  3 18  5\n",
    " 1 12 20 15 19\n",
    "\n",
    " 3 15  0  2 22\n",
    " 9 18 13 17  5\n",
    "19  8  7 25 23\n",
    "20 11 10 24  4\n",
    "14 21 16 12  6\n",
    "\n",
    "14 21 17 24  4\n",
    "10 16 15  9 19\n",
    "18  8 23 26 20\n",
    "22 11 13  6  5\n",
    " 2  0 12  3  7\"\"\"\n",
    "\n",
    "file = open(r\"C:\\\\Users\\\\Jacinta\\\\Documents\\\\GitHub\\\\AdventOfCode2021\\\\Inputs\\\\Day4input.txt\", \"r\")\n",
    "data = file.read()\n",
    "\n",
    "def numbers(n):\n",
    "    numbers = n.split('\\n\\n')\n",
    "    numbers = numbers[0].split(',')\n",
    "    numbers = [int(x) for x in numbers]\n",
    "    return numbers\n",
    "\n",
    "def cards(n):\n",
    "    cards = n.split('\\n\\n')\n",
    "    L = {}\n",
    "    for i in range(1, len(cards)):\n",
    "        C = [int(x) for x in cards[i].split()] \n",
    "        C = np.array(C).reshape(5,5)\n",
    "        rounds = 0\n",
    "        numbers_list = numbers(n)\n",
    "        for x in numbers_list:\n",
    "            if 500 in np.sum(C, 0) or 500 in np.sum(C, 1): \n",
    "                C = np.where(C == 100, 0, C)\n",
    "                index = numbers_list.index(x) - 1\n",
    "                score = C.sum() * numbers_list[index]\n",
    "                L[score] = rounds\n",
    "                break\n",
    "            else:\n",
    "                C = np.where(C == x, 100, C)\n",
    "                rounds += 1\n",
    "    return min(L, key=L.get)\n",
    "\n",
    "#cards(sample)\n",
    "cards(data)"
   ]
  },
  {
   "cell_type": "code",
   "execution_count": 268,
   "metadata": {},
   "outputs": [
    {
     "data": {
      "text/plain": [
       "34726"
      ]
     },
     "execution_count": 268,
     "metadata": {},
     "output_type": "execute_result"
    }
   ],
   "source": [
    "#Day 4 part 2\n",
    "\n",
    "def cards(n):\n",
    "    cards = n.split('\\n\\n')\n",
    "    L = {}\n",
    "    for i in range(1, len(cards)):\n",
    "        C = [int(x) for x in cards[i].split()] \n",
    "        C = np.array(C).reshape(5,5)\n",
    "        rounds = 0\n",
    "        numbers_list = numbers(n)\n",
    "        for x in numbers_list:\n",
    "            if 500 in np.sum(C, 0) or 500 in np.sum(C, 1): \n",
    "                C = np.where(C == 100, 0, C)\n",
    "                index = numbers_list.index(x) - 1\n",
    "                score = C.sum() * numbers_list[index]\n",
    "                L[score] = rounds\n",
    "                break\n",
    "            else:\n",
    "                C = np.where(C == x, 100, C)\n",
    "                rounds += 1\n",
    "    return max(L, key=L.get)\n",
    "\n",
    "cards(data)"
   ]
  },
  {
   "cell_type": "code",
   "execution_count": 77,
   "metadata": {},
   "outputs": [
    {
     "name": "stdout",
     "output_type": "stream",
     "text": [
      "4873\n"
     ]
    }
   ],
   "source": [
    "#Day 5 part 1\n",
    "\n",
    "import re\n",
    "\n",
    "sample = \"\"\"0,9 -> 5,9\n",
    "8,0 -> 0,8\n",
    "9,4 -> 3,4\n",
    "2,2 -> 2,1\n",
    "7,0 -> 7,4\n",
    "6,4 -> 2,0\n",
    "0,9 -> 2,9\n",
    "3,4 -> 1,4\n",
    "0,0 -> 8,8\n",
    "5,5 -> 8,2\"\"\"\n",
    "\n",
    "file = open(r\"C:\\\\Users\\\\Jacinta\\\\Documents\\\\GitHub\\\\AdventOfCode2021\\\\Inputs\\\\Day5input.txt\", \"r\")\n",
    "data = file.read()\n",
    "\n",
    "def Data(a):\n",
    "    a = re.split(' -> |\\n|,', a)\n",
    "    a = [int(x) for x in a]\n",
    "    length = int(len(a)/4)\n",
    "    a = np.array(a).reshape(length,4)\n",
    "    return a\n",
    "\n",
    "def lines(a):\n",
    "    D = Data(a)\n",
    "    lines = np.zeros((np.max(D)+1, np.max(D)+1))\n",
    "    for x in D:\n",
    "        if x[0] == x[2]:\n",
    "            for i in range(0, max(x[1],x[3]) - min(x[1],x[3])+1):\n",
    "                if x[1] > x[3]:\n",
    "                    lines[x[3]+i, x[0]] += 1\n",
    "                else:\n",
    "                    lines[x[1]+i, x[0]] += 1\n",
    "        elif x[1] == x[3]:\n",
    "            for i in range(0, max(x[0],x[2]) - min(x[0],x[2])+1):\n",
    "                if x[0] > x[2]:\n",
    "                    lines[x[1], x[2]+i] += 1\n",
    "                else:\n",
    "                    lines[x[1], x[0]+i] += 1\n",
    "    return len(lines[lines > 1])  \n",
    "\n",
    "print(lines(data))"
   ]
  },
  {
   "cell_type": "code",
   "execution_count": 78,
   "metadata": {},
   "outputs": [
    {
     "name": "stdout",
     "output_type": "stream",
     "text": [
      "19472\n"
     ]
    }
   ],
   "source": [
    "#Day 5 part 2\n",
    "\n",
    "def lines(a):\n",
    "    D = Data(a)\n",
    "    lines = np.zeros((np.max(D)+1, np.max(D)+1))\n",
    "    for x in D:\n",
    "        if x[0] == x[2]:\n",
    "            for i in range(0, max(x[1],x[3]) - min(x[1],x[3])+1):\n",
    "                if x[1] > x[3]:\n",
    "                    lines[x[3]+i, x[0]] += 1\n",
    "                else:\n",
    "                    lines[x[1]+i, x[0]] += 1\n",
    "        elif x[1] == x[3]:\n",
    "            for i in range(0, max(x[0],x[2]) - min(x[0],x[2])+1):\n",
    "                if x[0] > x[2]:\n",
    "                    lines[x[1], x[2]+i] += 1\n",
    "                else:\n",
    "                    lines[x[1], x[0]+i] += 1\n",
    "        else:\n",
    "            for i in range(0, max(x[0],x[2]) - min(x[0],x[2])+1):\n",
    "                if x[0] > x[2] and x[1] > x[3]:\n",
    "                    lines[x[3]+i, x[2]+i] += 1\n",
    "                elif x[0] < x[2] and x[1] < x[3]:\n",
    "                    lines[x[1]+i, x[0]+i] += 1\n",
    "                elif x[0] > x[2] and x[1] < x[3]:\n",
    "                    lines[x[1]+i, x[0]-i] += 1\n",
    "                else:\n",
    "                    lines[x[1]-i, x[0]+i] += 1\n",
    "    return len(lines[lines > 1])  \n",
    "\n",
    "print(lines(data))"
   ]
  },
  {
   "cell_type": "code",
   "execution_count": 74,
   "metadata": {},
   "outputs": [
    {
     "name": "stdout",
     "output_type": "stream",
     "text": [
      "360610\n"
     ]
    }
   ],
   "source": [
    "#Day 6 part 1\n",
    "\n",
    "sample = \"3,4,3,1,2\".split(',')\n",
    "\n",
    "file = open(r\"C:\\\\Users\\\\Jacinta\\\\Documents\\\\GitHub\\\\AdventOfCode2021\\\\Inputs\\\\Day6input.txt\", \"r\")\n",
    "data = file.read().split(',')\n",
    "\n",
    "def fish(a):\n",
    "    F = [int(x) for x in a]\n",
    "    count = 0\n",
    "    while count < 80: \n",
    "        count += 1\n",
    "        for i in range(len(F)):\n",
    "            if F[i] == 0:\n",
    "                F[i] = 6\n",
    "                F.append(8)\n",
    "            else:\n",
    "                F[i] -= 1\n",
    "    return len(F)\n",
    "            \n",
    "print(fish(data))"
   ]
  },
  {
   "cell_type": "code",
   "execution_count": 75,
   "metadata": {},
   "outputs": [
    {
     "name": "stdout",
     "output_type": "stream",
     "text": [
      "1631629590423\n"
     ]
    }
   ],
   "source": [
    "#Day 6 part 1\n",
    "\n",
    "#count number in each age group.\n",
    "#each group reproduces after 6 days (8 if new)\n",
    "\n",
    "sample = [\"3,4,3,1,2\".count(str(i)) for i in range(0, 9)]\n",
    "\n",
    "file = open(r\"C:\\\\Users\\\\Jacinta\\\\Documents\\\\GitHub\\\\AdventOfCode2021\\\\Inputs\\\\Day6input.txt\", \"r\").read()\n",
    "data = [file.count(str(i)) for i in range(0, 9)]\n",
    "\n",
    "def fish(a):\n",
    "    count = 0\n",
    "    while count < 256: \n",
    "        count += 1\n",
    "        reproducing = a.pop(0)\n",
    "        a[6] += reproducing\n",
    "        a.append(reproducing)\n",
    "    return sum(a)   \n",
    "        \n",
    "#for day in range(80):\n",
    "    #data[(day + 7) % 9] += data[day % 9]\n",
    "    \n",
    "print(fish(data))"
   ]
  },
  {
   "cell_type": "code",
   "execution_count": null,
   "metadata": {},
   "outputs": [],
   "source": []
  },
  {
   "cell_type": "code",
   "execution_count": null,
   "metadata": {},
   "outputs": [],
   "source": []
  },
  {
   "cell_type": "code",
   "execution_count": null,
   "metadata": {},
   "outputs": [],
   "source": []
  },
  {
   "cell_type": "code",
   "execution_count": null,
   "metadata": {},
   "outputs": [],
   "source": []
  }
 ],
 "metadata": {
  "kernelspec": {
   "display_name": "Python 3",
   "language": "python",
   "name": "python3"
  },
  "language_info": {
   "codemirror_mode": {
    "name": "ipython",
    "version": 3
   },
   "file_extension": ".py",
   "mimetype": "text/x-python",
   "name": "python",
   "nbconvert_exporter": "python",
   "pygments_lexer": "ipython3",
   "version": "3.8.5"
  }
 },
 "nbformat": 4,
 "nbformat_minor": 4
}
